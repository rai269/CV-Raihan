{
  "nbformat": 4,
  "nbformat_minor": 0,
  "metadata": {
    "colab": {
      "provenance": [],
      "include_colab_link": true
    },
    "kernelspec": {
      "name": "python3",
      "display_name": "Python 3"
    },
    "language_info": {
      "name": "python"
    }
  },
  "cells": [
    {
      "cell_type": "markdown",
      "metadata": {
        "id": "view-in-github",
        "colab_type": "text"
      },
      "source": [
        "<a href=\"https://colab.research.google.com/github/rai269/CV-Raihan/blob/main/Checkpoint_AVD_1.ipynb\" target=\"_parent\"><img src=\"https://colab.research.google.com/assets/colab-badge.svg\" alt=\"Open In Colab\"/></a>"
      ]
    },
    {
      "cell_type": "markdown",
      "source": [
        "# **BUSINESS UNDERSTANDING**"
      ],
      "metadata": {
        "id": "8qQ6lqKZW5fX"
      }
    },
    {
      "cell_type": "markdown",
      "source": [
        "### **BUSINIESS OBJECTIVE (TUJUAN BISNIS)**"
      ],
      "metadata": {
        "id": "Kk4QKEGdXDI3"
      }
    },
    {
      "cell_type": "markdown",
      "source": [
        "Tujuan utama dari bisnis ini adalah mengidentifikasi tren anime yang ada di Crunchyroll untuk memahami permintaan/prefensi pasar, menganalisis bagaimana Crunchyroll menyesuaikan kontennya dengan kebiasaan pengguna, menentukan peluang bagi Crynchyroll dan layanan streaming lain dalam menyusun strategi, dan terus menambahkan layanan atau tayangan anime demi kepuasan pelanggan atau pengguna."
      ],
      "metadata": {
        "id": "aOFa_LgZXJ7O"
      }
    },
    {
      "cell_type": "markdown",
      "source": [
        "## **Assess Situation (Menilai Situasi)**"
      ],
      "metadata": {
        "id": "tKa_h1Tuavet"
      }
    },
    {
      "cell_type": "markdown",
      "source": [
        "Semakin banyak orang yang melihat beberapa clip anime di media sosial menjadikan orang orang penasaran dengan anime dan akhirnya menjadi penikmat anime, namun situs streaming yang legal masih sukar untuk ditemui dan membuat sebuah situs atau platform streaminig yang legal dapat menjadi sebuah peluang, Crunchyroll sebuah perusahaan layanan streaming melihat situasi ini sehingga membuat pasar streaming anime semakin luas, terutama di Amerika Serikat, tujuan analisis ini adalah untuk mengambil sebuah peluang dalam dunia streaming anime, terkhususnya di Amerika Serikat."
      ],
      "metadata": {
        "id": "6cWi4774a8xm"
      }
    },
    {
      "cell_type": "markdown",
      "source": [
        "## **Data Mining Goals (Tujuan Analitik)**"
      ],
      "metadata": {
        "id": "eS-CCwTWIv9Y"
      }
    },
    {
      "cell_type": "markdown",
      "source": [
        "Mengidentifikasi perilaku pelanggan atau pengguna dari anime yang dinikmatinya, sehingga perusahaan dapat mengetahui jenis anime apa yang disukai pelanggan atau pengguna dengan cara melihat genre anime yang dinikmati dan studio apa yang membuat anime tersebut, sehingga perusahaan dapat memberikan sebuah rekomendari anime yang membuat pelanggan semakin puas."
      ],
      "metadata": {
        "id": "Kv4dDs4EJIks"
      }
    },
    {
      "cell_type": "markdown",
      "source": [
        "## **Project Plan (Perencanaan Proyek)**"
      ],
      "metadata": {
        "id": "otfUJQIwKmYa"
      }
    },
    {
      "cell_type": "markdown",
      "source": [
        "Mendata atau mengidentifikasi seluruh history anime yang sudah ditonton oleh pelanggan, mengidentifikasi genre apa yang paling banyak ditonton, dari studio mana dan lebih prefer ke anime per episode atau movie dan menjadikan sebuah satu data yang matang sehingga dapat disimpulkan jenis anime apa yang disukai oleh pelanggan, lalu dapat dibuat sebuah katalog yang biasa disebut dengan For Your Page (FYP), sehingga pelanggan mendapatkan rekomendasi anime sesuai dengan apa yang dia sukai."
      ],
      "metadata": {
        "id": "YKJzvzdjKuZT"
      }
    }
  ]
}